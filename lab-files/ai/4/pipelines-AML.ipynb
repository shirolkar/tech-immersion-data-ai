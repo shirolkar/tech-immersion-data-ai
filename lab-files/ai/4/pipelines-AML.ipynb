{
 "cells": [
  {
   "cell_type": "markdown",
   "metadata": {},
   "source": [
    "# Azure Machine Learning Pipelines\n",
    "\n",
    "In this experience, you will learn how Contoso Auto can benefit from creating re-usable machine learning pipelines with Azure Machine Learning.\n",
    "\n",
    "The goal is to build a pipeline that demonstrates the basic data science workflow of data preparation, model training, and predictions. Azure Machine Learning allows you to define distinct steps and make it possible to re-use these pipelines as well as to rerun only the steps you need as you tweak and test your workflow.\n",
    "\n",
    "In this experience, you will be using a subset of data collected from Contoso Auto's fleet management program used by a fleet of taxis. The data is enriched with holiday and weather data. The goal is to train a regression model to predict taxi fares in New York City based on input features such as, number of passengers, trip distance, datetime, holiday information and weather information.\n",
    "\n",
    "The machine learning pipeline in this quickstart is organized into three steps:\n",
    "\n",
    "- **Preprocess Training and Input Data:** We want to preprocess the data to better represent the datetime features, such as hours of the day, and day of the week to capture the cyclical nature of these features.\n",
    "\n",
    "- **Model Training:** We will use data transformations and the GradientBoostingRegressor algorithm from the scikit-learn library to train a regression model. The trained model will be saved for later making predictions.\n",
    "\n",
    "- **Model Inference:** In this scenario, we want to support **bulk predictions**. Each time an input file is uploaded to a data store, we want to initiate bulk model predictions on the input data. However, before we do model predictions, we will re-use the preprocess data step to process input data, and then make predictions on the processed data using the trained model.\n",
    "\n",
    "Each of these pipelines is going to have implicit data dependencies and the example will demonstrate how AML make it possible to re-use previously completed steps and run only the modified or new steps in your pipeline.\n",
    "\n",
    "The pipelines will be run on the Azure Machine Learning compute."
   ]
  },
  {
   "cell_type": "markdown",
   "metadata": {},
   "source": [
    "## Azure Machine Learning and Pipeline SDK-specific Imports"
   ]
  },
  {
   "cell_type": "code",
   "execution_count": null,
   "metadata": {},
   "outputs": [],
   "source": [
    "import warnings\n",
    "warnings.filterwarnings('ignore')\n",
    "\n",
    "import numpy as np\n",
    "import pandas as pd\n",
    "import azureml.core\n",
    "from azureml.core import Workspace, Experiment, Datastore\n",
    "from azureml.data.azure_storage_datastore import AzureBlobDatastore\n",
    "from azureml.core.compute import AmlCompute\n",
    "from azureml.core.compute import ComputeTarget\n",
    "from azureml.widgets import RunDetails\n",
    "\n",
    "# Check core SDK version number\n",
    "print(\"SDK version:\", azureml.core.VERSION)\n",
    "\n",
    "from azureml.data.data_reference import DataReference\n",
    "from azureml.pipeline.core import Pipeline, PipelineData\n",
    "from azureml.pipeline.steps import PythonScriptStep\n",
    "print(\"Pipeline SDK-specific imports completed\")"
   ]
  },
  {
   "cell_type": "markdown",
   "metadata": {},
   "source": [
    "## Setup\n",
    "To begin, you will need to provide the following information about your Azure Subscription.\n",
    "\n",
    "**If you are using your own Azure subscription, please provide names for subscription_id, resource_group, workspace_name and workspace_region to use.** Note that the workspace needs to be of type [Machine Learning Workspace](https://docs.microsoft.com/en-us/azure/machine-learning/service/setup-create-workspace).\n",
    "\n",
    "**If an environment is provided to you be sure to replace XXXXX in the values below with your unique identifier.**\n",
    "\n",
    "In the following cell, be sure to set the values for `subscription_id`, `resource_group`, `workspace_name` and `workspace_region` as directed by the comments (*these values can be acquired from the Azure Portal*).\n",
    "\n",
    "To get these values, do the following:\n",
    "1. Navigate to the Azure Portal and login with the credentials provided.\n",
    "2. From the left hand menu, under Favorites, select `Resource Groups`.\n",
    "3. In the list, select the resource group with the name similar to `XXXXX`.\n",
    "4. From the Overview tab, capture the desired values.\n",
    "\n",
    "Execute the following cell by selecting the `>|Run` button in the command bar above."
   ]
  },
  {
   "cell_type": "code",
   "execution_count": null,
   "metadata": {},
   "outputs": [],
   "source": [
    "#Provide the Subscription ID of your existing Azure subscription\n",
    "subscription_id = \"\" # <- needs to be the subscription with the Quick-Starts resource group\n",
    "\n",
    "#Provide values for the existing Resource Group \n",
    "resource_group = \"tech-immersion-onnx-xxxxx\" # <- replace XXXXX with your unique identifier\n",
    "\n",
    "#Provide the Workspace Name and Azure Region of the Azure Machine Learning Workspace\n",
    "workspace_name = \"gpu-tech-immersion-aml-xxxxx\" # <- replace XXXXX with your unique identifier (should be lowercase)\n",
    "workspace_region = \"eastus\" # <- region of your Quick-Starts resource group\n",
    "\n",
    "aml_compute_target = \"gpucluster\"\n",
    "\n",
    "experiment_name = 'fleet-pipeline'\n",
    "\n",
    "# project folder for the script files\n",
    "project_folder = 'aml-pipelines-scripts'\n",
    "data_location = 'aml-pipelines-data'\n",
    "test_data_location = 'aml-pipelines-test-data'"
   ]
  },
  {
   "cell_type": "markdown",
   "metadata": {},
   "source": [
    "## Download the training data and code for the pipeline steps\n",
    "\n",
    "Run the following cell to download the scripts that will be used by the pipeline."
   ]
  },
  {
   "cell_type": "code",
   "execution_count": null,
   "metadata": {},
   "outputs": [],
   "source": [
    "import urllib.request\n",
    "import os\n",
    "\n",
    "data_url = ('https://quickstartsws9073123377.blob.core.windows.net/'\n",
    "            'azureml-blobstore-0d1c4218-a5f9-418b-bf55-902b65277b85/'\n",
    "            'quickstarts/nyc-taxi-data/nyc-taxi-sample-data.csv')\n",
    "\n",
    "preprocess_script = ('https://quickstartsws9073123377.blob.core.windows.net/'\n",
    "                     'azureml-blobstore-0d1c4218-a5f9-418b-bf55-902b65277b85/'\n",
    "                     'quickstarts/pipeline-scripts/preprocess.py')\n",
    "                     \n",
    "train_script = ('https://quickstartsws9073123377.blob.core.windows.net/'\n",
    "                'azureml-blobstore-0d1c4218-a5f9-418b-bf55-902b65277b85/'\n",
    "                'quickstarts/pipeline-scripts/train.py')\n",
    "                \n",
    "inference_script = ('https://quickstartsws9073123377.blob.core.windows.net/'\n",
    "                    'azureml-blobstore-0d1c4218-a5f9-418b-bf55-902b65277b85/'\n",
    "                    'quickstarts/pipeline-scripts/inference.py')\n",
    "\n",
    "\n",
    "# Download the raw training data to your local disk\n",
    "os.makedirs(data_location, exist_ok=True)\n",
    "urllib.request.urlretrieve(data_url, os.path.join(data_location, 'nyc-taxi-sample-data.csv'))\n",
    "\n",
    "# Download the script files to your local disk\n",
    "os.makedirs(project_folder, exist_ok=True)\n",
    "urllib.request.urlretrieve(preprocess_script, os.path.join(project_folder, 'preprocess.py'))\n",
    "urllib.request.urlretrieve(train_script, os.path.join(project_folder, 'train.py'))\n",
    "urllib.request.urlretrieve(inference_script, os.path.join(project_folder, 'inference.py'))"
   ]
  },
  {
   "cell_type": "markdown",
   "metadata": {},
   "source": [
    "The above cell downloaded three files:\n",
    "    - `preprocess.py`: this script contains the data preparation logic. \n",
    "    - `train.py`: this script contains the model training logic.\n",
    "    - `inference.py`: this script contains the model scoring (e.g.,prediction) logic "
   ]
  },
  {
   "cell_type": "markdown",
   "metadata": {},
   "source": [
    "## Create and connect to an Azure Machine Learning Workspace\n",
    "\n",
    "Run the following cell to access your Azure Machine Learning **Workspace**.\n",
    "\n",
    "**Important Note**: You will be prompted to login in the text that is output below the cell. Be sure to navigate to the URL displayed and enter the code that is provided. Once you have entered the code, return to this notebook and wait for the output to read `Workspace configuration succeeded`."
   ]
  },
  {
   "cell_type": "code",
   "execution_count": null,
   "metadata": {},
   "outputs": [],
   "source": [
    "# By using the exist_ok param, if the worskpace already exists you get a reference to the existing workspace\n",
    "# allowing you to re-run this cell multiple times as desired (which is fairly common in notebooks).\n",
    "ws = Workspace.create(\n",
    "    name = workspace_name,\n",
    "    subscription_id = subscription_id,\n",
    "    resource_group = resource_group, \n",
    "    location = workspace_region,\n",
    "    exist_ok = True)\n",
    "\n",
    "ws.write_config()\n",
    "print('Workspace configuration succeeded')"
   ]
  },
  {
   "cell_type": "markdown",
   "metadata": {},
   "source": [
    "## Create AML Compute Cluster\n",
    "\n",
    "Azure Machine Learning Compute is a service for provisioning and managing clusters of Azure virtual machines for running machine learning workloads. Let's create a new Aml Compute in the current workspace, if it doesn't already exist. We will run all our pipelines on this compute target."
   ]
  },
  {
   "cell_type": "code",
   "execution_count": null,
   "metadata": {},
   "outputs": [],
   "source": [
    "from azureml.core.compute_target import ComputeTargetException\n",
    "\n",
    "try:\n",
    "    aml_compute = AmlCompute(ws, aml_compute_target)\n",
    "    print(\"found existing compute target.\")\n",
    "except ComputeTargetException:\n",
    "    print(\"creating new compute target\")\n",
    "    \n",
    "    provisioning_config = AmlCompute.provisioning_configuration(vm_size = \"STANDARD_NC12\",\n",
    "                                                                min_nodes = 1, \n",
    "                                                                max_nodes = 1)    \n",
    "    aml_compute = ComputeTarget.create(ws, aml_compute_target, provisioning_config)\n",
    "    aml_compute.wait_for_completion(show_output=True, min_node_count=None, timeout_in_minutes=20)\n",
    "    \n",
    "print(\"Aml Compute attached\")"
   ]
  },
  {
   "cell_type": "markdown",
   "metadata": {},
   "source": [
    "## Create the Run Configuration"
   ]
  },
  {
   "cell_type": "code",
   "execution_count": null,
   "metadata": {},
   "outputs": [],
   "source": [
    "from azureml.core.runconfig import RunConfiguration\n",
    "from azureml.core.conda_dependencies import CondaDependencies\n",
    "from azureml.core.runconfig import DEFAULT_CPU_IMAGE,  DEFAULT_GPU_IMAGE\n",
    "\n",
    "# Create a new runconfig object\n",
    "run_amlcompute = RunConfiguration()\n",
    "\n",
    "# Use the cluster you created above. \n",
    "run_amlcompute.target = aml_compute_target\n",
    "\n",
    "# Enable Docker\n",
    "run_amlcompute.environment.docker.enabled = True\n",
    "\n",
    "# Set Docker base image to the default CPU/GPU-based image\n",
    "run_amlcompute.environment.docker.base_image = DEFAULT_GPU_IMAGE\n",
    "\n",
    "# Use conda_dependencies.yml to create a conda environment in the Docker image for execution\n",
    "run_amlcompute.environment.python.user_managed_dependencies = False\n",
    "\n",
    "# Specify CondaDependencies obj, add necessary packages\n",
    "run_amlcompute.environment.python.conda_dependencies = CondaDependencies.create(pip_packages=[\n",
    "    'numpy',\n",
    "    'pandas',\n",
    "    'scikit-learn',\n",
    "    'sklearn_pandas'\n",
    "])"
   ]
  },
  {
   "cell_type": "markdown",
   "metadata": {},
   "source": [
    "## Pipeline Step 1 - Process Training Data "
   ]
  },
  {
   "cell_type": "markdown",
   "metadata": {},
   "source": [
    "The process training data step in the pipeline takes raw training data as input. This data can be a data source that lives in one of the accessible data locations, or intermediate data produced by a previous step in the pipeline. In this example we will upload the raw training data in the workspace's default blob store. Run the following two cells at the end of which we will create a **DataReference** object that points to the raw training data *csv* file stored in the default blob store."
   ]
  },
  {
   "cell_type": "code",
   "execution_count": null,
   "metadata": {},
   "outputs": [],
   "source": [
    "# Default datastore (Azure file storage)\n",
    "def_file_store = ws.get_default_datastore() \n",
    "print(\"Default datastore's name: {}\".format(def_file_store.name))\n",
    "def_blob_store = Datastore(ws, \"workspaceblobstore\")\n",
    "print(\"Blobstore's name: {}\".format(def_blob_store.name))"
   ]
  },
  {
   "cell_type": "code",
   "execution_count": null,
   "metadata": {},
   "outputs": [],
   "source": [
    "# Upload the raw training data to the blob storage\n",
    "def_blob_store.upload(src_dir=data_location, \n",
    "                      target_path='nyc-taxi-raw-features', \n",
    "                      overwrite=True, \n",
    "                      show_progress=True)\n",
    "\n",
    "raw_train_data = DataReference(datastore=def_blob_store, \n",
    "                                      data_reference_name=\"nyc_taxi_raw_features\", \n",
    "                                      path_on_datastore=\"nyc-taxi-raw-features/nyc-taxi-sample-data.csv\")\n",
    "print(\"DataReference object created\")"
   ]
  },
  {
   "cell_type": "markdown",
   "metadata": {
    "slideshow": {
     "slide_type": "fragment"
    }
   },
   "source": [
    "### Create the Process Training Data Pipeline Step"
   ]
  },
  {
   "cell_type": "markdown",
   "metadata": {},
   "source": [
    "Wihtin a pipeline, any intermediate data (e.g., the output of a previous Step) is represented by a PipelineData object. PipelineData can be produced by one step and consumed in another step by providing the PipelineData object as an output of one step and the input of one or more steps.\n",
    "\n",
    "In the cell that follows, you create an instance of the PythonScriptStep that takes a reference to input data, a script to run against the input data and a destination to write the output data that results.\n",
    "\n",
    "Specifically, the step takes the `raw_train_data` DataReference object as input, and it will output an intermediate PipelineData object represented by `processed_train_data` that holds the processed training data. \n",
    "\n",
    "This output data will have new engineered features for the datetime components: hour of the day, and day of the week, as scripted in `preprocess.py`. \n",
    "\n",
    "Run the cell below to construct the PipelineData objects and the PythonScriptStep pipeline step:\n",
    "\n",
    "*If you are curious, open `preprocess.py` from the project folder `aml-pipelines-scripts` and examine the arguments, inputs, and outputs for the script. Note that there is an argument called process_mode to distinguish between processing training data vs test data. Reviewing the Python script file will give you a good sense of why the script argument names used below are important.*"
   ]
  },
  {
   "cell_type": "code",
   "execution_count": null,
   "metadata": {},
   "outputs": [],
   "source": [
    "processed_train_data = PipelineData('processed_train_data', datastore=def_blob_store)\n",
    "print(\"PipelineData object created\")\n",
    "\n",
    "processTrainDataStep = PythonScriptStep(\n",
    "    name=\"process_train_data\",\n",
    "    script_name=\"preprocess.py\", \n",
    "    arguments=[\"--process_mode\", 'train',\n",
    "               \"--input\", raw_train_data,\n",
    "               \"--output\", processed_train_data],\n",
    "    inputs=[raw_train_data],\n",
    "    outputs=[processed_train_data],\n",
    "    compute_target=aml_compute,\n",
    "    runconfig=run_amlcompute,\n",
    "    source_directory=project_folder\n",
    ")\n",
    "print(\"preprocessStep created\")"
   ]
  },
  {
   "cell_type": "markdown",
   "metadata": {},
   "source": [
    "At this point you have completed the first step in the pipeline."
   ]
  },
  {
   "cell_type": "markdown",
   "metadata": {},
   "source": [
    "## Pipeline Step 2 -  Train Pipeline Step"
   ]
  },
  {
   "cell_type": "markdown",
   "metadata": {},
   "source": [
    "The train pipeline step takes the `processed_train_data` created in the above step as input and generates another PipelineData object to save the model that results as its output in `trained_model`. This is an example of how machine learning pipelines can have many steps and these steps can use (or reuse) datasources and intermediate data.\n",
    "\n",
    "*If you are curious, open `train.py` from the project folder `aml-pipelines-scripts` and examine the arguments, inputs, and outputs for the script.*"
   ]
  },
  {
   "cell_type": "code",
   "execution_count": null,
   "metadata": {},
   "outputs": [],
   "source": [
    "trained_model = PipelineData('trained_model', datastore=def_blob_store)\n",
    "print(\"PipelineData object created\")\n",
    "\n",
    "trainStep = PythonScriptStep(\n",
    "    name=\"train\",\n",
    "    script_name=\"train.py\", \n",
    "    arguments=[\"--input\", processed_train_data, \"--output\", trained_model],\n",
    "    inputs=[processed_train_data],\n",
    "    outputs=[trained_model],\n",
    "    compute_target=aml_compute,\n",
    "    runconfig=run_amlcompute,\n",
    "    source_directory=project_folder\n",
    ")\n",
    "print(\"trainStep created\")"
   ]
  },
  {
   "cell_type": "markdown",
   "metadata": {},
   "source": [
    "### Create and Validate the Pipeline\n",
    "Now that you have defined the core steps, it is time to define the actual Pipeline object.\n",
    "\n",
    "The `trainStep` has an implicit data dependency on the `processTrainDataStep`. As such, you need only include the `trainStep` in your Pipeline object. \n",
    "\n",
    "You will observe that when you run the pipeline that it will first run the **processTrainDataStep** followed by the **trainStep**.\n",
    "\n",
    "Run the following cell to create the Pipeline and validate it is configured correctly (e.g., check for issues like disconnected inputs)."
   ]
  },
  {
   "cell_type": "code",
   "execution_count": null,
   "metadata": {},
   "outputs": [],
   "source": [
    "pipeline = Pipeline(workspace=ws, steps=[trainStep])\n",
    "print (\"Pipeline is built\")\n",
    "\n",
    "pipeline.validate()\n",
    "print(\"Simple validation complete\")"
   ]
  },
  {
   "cell_type": "markdown",
   "metadata": {},
   "source": [
    "### Submit the Pipeline\n",
    "\n",
    "Next, schedule the pipeline run by executing the following cell."
   ]
  },
  {
   "cell_type": "code",
   "execution_count": null,
   "metadata": {},
   "outputs": [],
   "source": [
    "pipeline_run = Experiment(ws, experiment_name).submit(pipeline)\n",
    "print(\"Pipeline is submitted for execution\")"
   ]
  },
  {
   "cell_type": "markdown",
   "metadata": {},
   "source": [
    "### Monitor the Run Details\n",
    "\n",
    "The pipeline run will take **about 8 minutes to complete.**\n",
    "\n",
    "You can monitor the execution of a pipeline in realtime both from a notebook and using the Azure Portal. \n",
    "\n",
    "Run the following cell and observe the order in which the pipeline steps are executed: **processTrainDataStep** followed by the **trainStep**\n",
    "\n",
    "Wait until both pipeline steps finish running. The cell below should periodically auto-refresh and you can also rerun the cell to force a refresh.\n",
    "\n",
    "Notice in the output of the cell below, at the bottom, there is a link you can click to see the status of the run from within the Azure Portal."
   ]
  },
  {
   "cell_type": "code",
   "execution_count": null,
   "metadata": {},
   "outputs": [],
   "source": [
    "RunDetails(pipeline_run).show()"
   ]
  },
  {
   "cell_type": "markdown",
   "metadata": {},
   "source": [
    "## Pipeline Step 3 - Inferencing\n",
    "At this point you have a trained model you can use to begin making predictions. In the following, you will create a new pipeline step that is used for the purpose of inferencing (or scoring)."
   ]
  },
  {
   "cell_type": "markdown",
   "metadata": {},
   "source": [
    "### Create a DataReference Object to represent the Test data\n",
    "\n",
    "Run the following cell to upload the test data and create the DataReference object (`raw_bulk_test_data`) that references it. "
   ]
  },
  {
   "cell_type": "code",
   "execution_count": null,
   "metadata": {},
   "outputs": [],
   "source": [
    "# Upload dummy raw test data to the blob storage\n",
    "os.makedirs(test_data_location, exist_ok=True)\n",
    "pd.DataFrame([[0]], columns = ['col1']).to_csv(os.path.join(test_data_location, 'raw-test-data.csv'), header=True, index=False)\n",
    "\n",
    "def_blob_store.upload(src_dir=test_data_location, \n",
    "                      target_path='bulk-test-data', \n",
    "                      overwrite=True, \n",
    "                      show_progress=True)\n",
    "\n",
    "# Create a DataReference object referencing the 'raw-test-data.csv' file\n",
    "raw_bulk_test_data = DataReference(datastore=def_blob_store, \n",
    "                                      data_reference_name=\"raw_bulk_test_data\", \n",
    "                                      path_on_datastore=\"bulk-test-data/raw-test-data.csv\")\n",
    "print(\"DataReference object created\")"
   ]
  },
  {
   "cell_type": "markdown",
   "metadata": {},
   "source": [
    "### Create the Process Test Data Pipeline Step"
   ]
  },
  {
   "cell_type": "markdown",
   "metadata": {},
   "source": [
    "Similar to the process train data pipeline step, we create a new step for processing the test data. Note that it is the same script file `preprocess.py` that is used to process both the train and test data. Thus, you can centralize all your logic for preprocessing data for both train and test. The key difference here is that the process_mode argument is set to *inference*, which the `preprocess.py` script will use to process the test data in a slightly different way than the train data. \n",
    "\n",
    "*If you are curious, open `preprocess.py` from the project folder `aml-pipelines-scripts` and examine the arguments, inputs, and outputs for the script. Note that there is an argument called process_mode to distinguish between processing training data vs test data. Reviewing the Python script file will give you a good sense of why the script argument names used below are important.*"
   ]
  },
  {
   "cell_type": "code",
   "execution_count": null,
   "metadata": {},
   "outputs": [],
   "source": [
    "processed_test_data = PipelineData('processed_test_data', datastore=def_blob_store)\n",
    "print(\"PipelineData object created\")\n",
    "\n",
    "processTestDataStep = PythonScriptStep(\n",
    "    name=\"process_test_data\",\n",
    "    script_name=\"preprocess.py\", \n",
    "    arguments=[\"--process_mode\", 'inference',\n",
    "               \"--input\", raw_bulk_test_data,\n",
    "               \"--output\", processed_test_data],\n",
    "    inputs=[raw_bulk_test_data],\n",
    "    outputs=[processed_test_data],\n",
    "    allow_reuse = False,\n",
    "    compute_target=aml_compute,\n",
    "    runconfig=run_amlcompute,\n",
    "    source_directory=project_folder\n",
    ")\n",
    "print(\"preprocessStep created\")"
   ]
  },
  {
   "cell_type": "markdown",
   "metadata": {},
   "source": [
    "### Create the Inference Pipeline Step to Make Predictions"
   ]
  },
  {
   "cell_type": "markdown",
   "metadata": {},
   "source": [
    "The inference pipeline step takes the `processed_test_data` created in the above step and the `trained_model` created in the train step as two inputs and generates `inference_output` as its output. This is yet another example of how machine learning pipelines can have many steps and these steps could use or reuse datasources and intermediate data.\n",
    "\n",
    "*If you are curious, open inference.py from the project folder `aml-pipelines-scripts` and examine the arguments, inputs, and outputs for the script.*"
   ]
  },
  {
   "cell_type": "code",
   "execution_count": null,
   "metadata": {},
   "outputs": [],
   "source": [
    "inference_output = PipelineData('inference_output', datastore=def_blob_store)\n",
    "print(\"PipelineData object created\")\n",
    "\n",
    "inferenceStep = PythonScriptStep(\n",
    "    name=\"inference\",\n",
    "    script_name=\"inference.py\", \n",
    "    arguments=[\"--input\", processed_test_data,\n",
    "               \"--model\", trained_model,\n",
    "               \"--output\", inference_output],\n",
    "    inputs=[processed_test_data, trained_model],\n",
    "    outputs=[inference_output],\n",
    "    compute_target=aml_compute,\n",
    "    runconfig=run_amlcompute,\n",
    "    source_directory=project_folder\n",
    ")\n",
    "print(\"inferenceStep created\")"
   ]
  },
  {
   "cell_type": "markdown",
   "metadata": {},
   "source": [
    "### Create and Validate the Pipeline\n",
    "\n",
    "The `inferenceStep` has an implicit data dependency with **ALL** of the previous pipeline steps. So when we create a Pipeline object that lists only `inferenceStep` in the steps array, we are implicitly including `process_test_data`, and the model created by `train`.\n",
    "\n",
    "Run the following cell to create and validate the inferencing pipeline."
   ]
  },
  {
   "cell_type": "code",
   "execution_count": null,
   "metadata": {},
   "outputs": [],
   "source": [
    "inference_pipeline = Pipeline(workspace=ws, steps=[inferenceStep])\n",
    "print (\"Inference Pipeline is built\")\n",
    "\n",
    "inference_pipeline.validate()\n",
    "print(\"Simple validation complete\")"
   ]
  },
  {
   "cell_type": "markdown",
   "metadata": {},
   "source": [
    "### Publish the Inference Pipeline\n",
    "\n",
    "As the next step, you will publish the inferencing pipeline so it can be executed to score any data that is supplied in a batch fashion.\n",
    "\n",
    "Note that we are not submitting the pipeline to run, instead we are publishing the pipeline. When you publish a pipeline, it can be submitted to run by invoking it via its REST endpoint. \n",
    "\n",
    "Run the following cell."
   ]
  },
  {
   "cell_type": "code",
   "execution_count": null,
   "metadata": {},
   "outputs": [],
   "source": [
    "pipeline_name = 'Inference Pipeline'\n",
    "published_pipeline = inference_pipeline.publish(name = pipeline_name)"
   ]
  },
  {
   "cell_type": "markdown",
   "metadata": {},
   "source": [
    "### Schedule the Inference Pipeline\n",
    "\n",
    "We want to run the Inference Pipeline when any new data is uploaded at the location referenced by the `raw_bulk_test_data` DataReference object. The next cell creates a Schedule to monitor the datastore for changes, and is responsible for running the `Inference Pipeline` when it detects a new file being uploaded."
   ]
  },
  {
   "cell_type": "code",
   "execution_count": null,
   "metadata": {},
   "outputs": [],
   "source": [
    "from azureml.pipeline.core.schedule import Schedule\n",
    "\n",
    "schedule = Schedule.create(workspace=ws, name=pipeline_name + \"_sch\",\n",
    "                           pipeline_id=published_pipeline.id, \n",
    "                           experiment_name=experiment_name,\n",
    "                           datastore=def_blob_store,\n",
    "                           wait_for_provisioning=True,\n",
    "                           description=\"Datastore scheduler for Pipeline: \" + pipeline_name,\n",
    "                           path_on_datastore='bulk-test-data',\n",
    "                           polling_interval=1 # in minutes\n",
    "                           )\n",
    "\n",
    "print(\"Created schedule with id: {}\".format(schedule.id))"
   ]
  },
  {
   "cell_type": "code",
   "execution_count": null,
   "metadata": {},
   "outputs": [],
   "source": [
    "# Check the status of the Schedule and confirm it's Active\n",
    "print('Schedule status: ', schedule.status)"
   ]
  },
  {
   "cell_type": "markdown",
   "metadata": {},
   "source": [
    "### Test the Inference Pipeline\n",
    "\n",
    "Run the following cell to create some test data to make bulk predictions and upload that data to the `bulk-test-data` blob store. "
   ]
  },
  {
   "cell_type": "code",
   "execution_count": null,
   "metadata": {},
   "outputs": [],
   "source": [
    "# Create the raw test data\n",
    "columns = ['vendorID', 'passengerCount', 'tripDistance', 'hour_of_day', 'day_of_week', 'day_of_month', \n",
    "           'month_num', 'normalizeHolidayName', 'isPaidTimeOff', 'snowDepth', 'precipTime', \n",
    "           'precipDepth', 'temperature']\n",
    "\n",
    "data = [[1, 4, 10, 15, 4, 5, 7, 'None', False, 0, 0.0, 0.0, 80], \n",
    "        [1, 1, 5, 6, 0, 20, 1, 'Martin Luther King, Jr. Day', True, 0, 2.0, 3.0, 35]]\n",
    "\n",
    "data_df = pd.DataFrame(data, columns = columns)\n",
    "\n",
    "os.makedirs(test_data_location, exist_ok=True)\n",
    "data_df.to_csv(os.path.join(test_data_location, 'raw-test-data.csv'), header=True, index=False)\n",
    "\n",
    "from datetime import datetime\n",
    "data_upload_time = datetime.utcnow()\n",
    "print('Data upload time in UTC: ', data_upload_time)\n",
    "\n",
    "# Upload the raw test data to the blob storage\n",
    "def_blob_store.upload(src_dir=test_data_location, \n",
    "                      target_path='bulk-test-data', \n",
    "                      overwrite=True, \n",
    "                      show_progress=True)\n",
    "\n",
    "# Wait for 65 seconds...\n",
    "import time\n",
    "print('Please wait...')\n",
    "time.sleep(65)\n",
    "print('Done!')"
   ]
  },
  {
   "cell_type": "markdown",
   "metadata": {},
   "source": [
    "### Wait for Schedule to Trigger\n",
    "\n",
    "The Schedule polling interval is 1 minute. You can also log into Azure Portal and navigate to your `resource group -> workspace -> experiment` to see if the `Inference Pipeline` has started executing.\n",
    "\n",
    "**If the inference_pipeline_run object in the below cell is None, it means that the Schedule has not triggered yet!**\n",
    "\n",
    "**If the Schedule does not trigger in 2 minutes, try rerunning the data upload cell again!**"
   ]
  },
  {
   "cell_type": "code",
   "execution_count": null,
   "metadata": {},
   "outputs": [],
   "source": [
    "# Confirm that the inference_pipeline_run object is NOT None\n",
    "inference_pipeline_run = schedule.get_last_pipeline_run()\n",
    "print(inference_pipeline_run)"
   ]
  },
  {
   "cell_type": "markdown",
   "metadata": {},
   "source": [
    "*If you upload the test data file more than once, confirm that we have the latest pipeline run object. We will compare the pipeline start time with the time you uploaded the test data file.*"
   ]
  },
  {
   "cell_type": "code",
   "execution_count": null,
   "metadata": {},
   "outputs": [],
   "source": [
    "# confirm the start time\n",
    "import dateutil.parser\n",
    "\n",
    "if inference_pipeline_run.get_details()['status'] != 'NotStarted':\n",
    "    pipeline_starttime = dateutil.parser.parse(inference_pipeline_run.get_details()['startTimeUtc'], ignoretz=True)\n",
    "else:\n",
    "    pipeline_starttime = datetime.utcnow()\n",
    "\n",
    "if(pipeline_starttime > data_upload_time):\n",
    "    print('We have the correct inference pipeline run! Proceed to next cell.')\n",
    "else:\n",
    "    print('Rerun the above cell to get the latest inference pipeline run!')"
   ]
  },
  {
   "cell_type": "markdown",
   "metadata": {},
   "source": [
    "### Monitor the Run Details\n",
    "\n",
    "Observe the order in which the pipeline steps are executed based on their implicit data dependencies.\n",
    "\n",
    "Wait until all steps finish running. The cell below should periodically auto-refresh and you can also rerun the cell to force a refresh.\n",
    "\n",
    "**This example demonstrates how AML make it possible to reuse previously completed steps and run only the modified or new steps in your pipeline.**"
   ]
  },
  {
   "cell_type": "code",
   "execution_count": null,
   "metadata": {},
   "outputs": [],
   "source": [
    "RunDetails(inference_pipeline_run).show()"
   ]
  },
  {
   "cell_type": "markdown",
   "metadata": {},
   "source": [
    "### Download and Observe the Predictions"
   ]
  },
  {
   "cell_type": "code",
   "execution_count": null,
   "metadata": {},
   "outputs": [],
   "source": [
    "# access the inference_output\n",
    "data = inference_pipeline_run.find_step_run('inference')[0].get_output_data('inference_output')\n",
    "# download the predictions to local path\n",
    "data.download('.', show_progress=True)\n",
    "# print the predictions\n",
    "predictions = np.loadtxt(os.path.join('./', data.path_on_datastore, 'results.txt'))\n",
    "print(predictions)"
   ]
  },
  {
   "cell_type": "markdown",
   "metadata": {},
   "source": [
    "### Cleanup Resources\n",
    "\n",
    "If you are done experimenting with this experience, run the following cell to clean up the schedule."
   ]
  },
  {
   "cell_type": "code",
   "execution_count": null,
   "metadata": {},
   "outputs": [],
   "source": [
    "schedule.disable()"
   ]
  }
 ],
 "metadata": {
  "kernelspec": {
   "display_name": "Python [conda env:py35]",
   "language": "python",
   "name": "conda-env-py35-py"
  },
  "language_info": {
   "codemirror_mode": {
    "name": "ipython",
    "version": 3
   },
   "file_extension": ".py",
   "mimetype": "text/x-python",
   "name": "python",
   "nbconvert_exporter": "python",
   "pygments_lexer": "ipython3",
   "version": "3.5.5"
  }
 },
 "nbformat": 4,
 "nbformat_minor": 2
}
