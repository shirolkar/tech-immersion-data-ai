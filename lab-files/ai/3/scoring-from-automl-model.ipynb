{
 "cells": [
  {
   "cell_type": "markdown",
   "metadata": {},
   "source": [
    "# Understanding the automated ML generated model using model explainability \n",
    "In this notebook, you will retrieve the best model from the automated machine learning experiment you performed previously. Then you will use the model interpretability features of the Azure Machine Learning Python SDK to indentify which features had the most impact on the prediction.\n",
    "\n",
    "**Please be sure you have completed Exercise 1 before continuing**\n",
    "\n",
    "Begin by running the following cell to ensure your environment has the required modules installed and updated."
   ]
  },
  {
   "cell_type": "code",
   "execution_count": null,
   "metadata": {
    "scrolled": true
   },
   "outputs": [],
   "source": [
    "!pip install --upgrade azureml-sdk[notebooks,explain,automl,contrib]\n",
    "!pip install azureml-dataprep\n",
    "!pip install scikit-learn==0.20.3\n",
    "!pip install -U scikit-image"
   ]
  },
  {
   "cell_type": "markdown",
   "metadata": {},
   "source": [
    "Next run the following cell to import all the modules used in this notebook."
   ]
  },
  {
   "cell_type": "code",
   "execution_count": null,
   "metadata": {},
   "outputs": [],
   "source": [
    "import os\n",
    "import numpy as np\n",
    "import pandas as pd\n",
    "import pickle\n",
    "\n",
    "import azureml\n",
    "from azureml.core import Run\n",
    "from azureml.core import Workspace\n",
    "from azureml.core.model import Model\n",
    "from azureml.core.run import Run\n",
    "from azureml.core.experiment import Experiment\n",
    "from azureml.train.automl import AutoMLConfig\n",
    "from azureml.train.automl.run import AutoMLRun\n",
    "from azureml.train.automl.automlexplainer import explain_model\n",
    "\n",
    "# Verify AML SDK Installed\n",
    "# view version history at https://pypi.org/project/azureml-sdk/#history \n",
    "print(\"SDK Version:\", azureml.core.VERSION)\n",
    "\n",
    "import sklearn\n",
    "\n",
    "sklearn_version = sklearn.__version__\n",
    "print('The scikit-learn version is {}.'.format(sklearn_version))"
   ]
  },
  {
   "cell_type": "markdown",
   "metadata": {},
   "source": [
    "### Configure access to your Azure Machine Learning Workspace\n",
    "To begin, you will need to provide the following information about your Azure Subscription.\n",
    "\n",
    "**If you are using your own Azure subscription, please provide names for subscription_id, resource_group, workspace_name and workspace_region to use.** Note that the workspace needs to be of type [Machine Learning Workspace](https://docs.microsoft.com/en-us/azure/machine-learning/service/setup-create-workspace).\n",
    "\n",
    "**If an environment is provided to you be sure to replace XXXXX in the values below with your unique identifier.**\n",
    "\n",
    "In the following cell, be sure to set the values for `subscription_id`, `resource_group`, `workspace_name` and `workspace_region` as directed by the comments (*these values can be acquired from the Azure Portal*).\n",
    "\n",
    "To get these values, do the following:\n",
    "1. Navigate to the Azure Portal and login with the credentials provided.\n",
    "2. From the left hand menu, under Favorites, select `Resource Groups`.\n",
    "3. In the list, select the resource group with the name similar to `XXXXX`.\n",
    "4. From the Overview tab, capture the desired values.\n",
    "\n",
    "Execute the following cell by selecting the `>|Run` button in the command bar above."
   ]
  },
  {
   "cell_type": "code",
   "execution_count": null,
   "metadata": {},
   "outputs": [],
   "source": [
    "#Provide the Subscription ID of your existing Azure subscription\n",
    "subscription_id = \"\" # <- needs to be the subscription with the resource group\n",
    "\n",
    "#Provide values for the existing Resource Group \n",
    "resource_group = \"tech-immersion-onnx-xxxxx\" # <- replace XXXXX with your unique identifier\n",
    "\n",
    "#Provide the Workspace Name and Azure Region of the Azure Machine Learning Workspace\n",
    "workspace_name = \"gpu-tech-immersion-aml-xxxxx\" # <- replace XXXXX with your unique identifier (should be lowercase)\n",
    "workspace_region = \"eastus\" # <- region of your resource group\n",
    "\n",
    "#Provide the name of the Experiment you used with Automated Machine Learning\n",
    "experiment_name = 'automl-regression'\n",
    "\n",
    "# the train data is available here\n",
    "train_data_url = ('https://quickstartsws9073123377.blob.core.windows.net/'\n",
    "                  'azureml-blobstore-0d1c4218-a5f9-418b-bf55-902b65277b85/'\n",
    "                  'training-formatted.csv')\n",
    "\n",
    "# this is the URL to the CSV file containing a small set of test data\n",
    "test_data_url = ('https://quickstartsws9073123377.blob.core.windows.net/'\n",
    "                  'azureml-blobstore-0d1c4218-a5f9-418b-bf55-902b65277b85/'\n",
    "                  'fleet-formatted.csv')\n"
   ]
  },
  {
   "cell_type": "markdown",
   "metadata": {},
   "source": [
    "## Connect to the Azure Machine Learning Workspace\n",
    "\n",
    "Run the following cell to connect the Azure Machine Learning **Workspace**.\n",
    "\n",
    "**Important Note**: You will be prompted to login in the text that is output below the cell. Be sure to navigate to the URL displayed and enter the code that is provided. Once you have entered the code, return to this notebook and wait for the output to read `Workspace configuration succeeded`."
   ]
  },
  {
   "cell_type": "code",
   "execution_count": null,
   "metadata": {},
   "outputs": [],
   "source": [
    "# By using the exist_ok param, if the worskpace already exists we get a reference to the existing workspace\n",
    "ws = Workspace.create(\n",
    "    name = workspace_name,\n",
    "    subscription_id = subscription_id,\n",
    "    resource_group = resource_group, \n",
    "    location = workspace_region,\n",
    "    exist_ok = True)\n",
    "\n",
    "print(\"Workspace Provisioning complete.\")"
   ]
  },
  {
   "cell_type": "markdown",
   "metadata": {},
   "source": [
    "# Get the best model trained with automated machine learning"
   ]
  },
  {
   "cell_type": "markdown",
   "metadata": {},
   "source": [
    "Retrieve the Run from the Experiment and then get the underlying AutoMLRun to get at the best model and child run objects:"
   ]
  },
  {
   "cell_type": "code",
   "execution_count": null,
   "metadata": {},
   "outputs": [],
   "source": [
    "existing_experiment = Experiment(ws,experiment_name)\n",
    "run = list(Run.list(existing_experiment))[0]\n",
    "from azureml.train.automl.run import AutoMLRun\n",
    "automl_run = AutoMLRun(existing_experiment, run.id)\n",
    "automl_run"
   ]
  },
  {
   "cell_type": "markdown",
   "metadata": {},
   "source": [
    "Retrieve the best run and best model from the automated machine learning run by executing the following cell:"
   ]
  },
  {
   "cell_type": "code",
   "execution_count": null,
   "metadata": {},
   "outputs": [],
   "source": [
    "import azureml.automl\n",
    "best_run, best_model = automl_run.get_output()"
   ]
  },
  {
   "cell_type": "markdown",
   "metadata": {},
   "source": [
    "## Load the train and test data"
   ]
  },
  {
   "cell_type": "markdown",
   "metadata": {},
   "source": [
    "Model interpretability works by passing training and test data thru the created model and evaluating the result of which values had a given impact. \n",
    "\n",
    "Load the training and test data by running the following cell."
   ]
  },
  {
   "cell_type": "code",
   "execution_count": null,
   "metadata": {},
   "outputs": [],
   "source": [
    "# load the original training data\n",
    "train_data = pd.read_csv(train_data_url)\n",
    "X_train = train_data.iloc[:,1:74]\n",
    "y_train = train_data.iloc[:,0].values.flatten()\n",
    "\n",
    "# load some test vehicle data that the model has not seen\n",
    "X_test = pd.read_csv(test_data_url)\n",
    "X_test = X_test.drop(columns=[\"Car_ID\", \"Battery_Age\"])\n",
    "X_test.rename(columns={'Twelve_hourly_temperature_forecast_for_next_31_days_reversed': 'Twelve_hourly_temperature_history_for_last_31_days_before_death_last_recording_first'}, inplace=True)\n",
    "X_test"
   ]
  },
  {
   "cell_type": "markdown",
   "metadata": {},
   "source": [
    "# Model Explainability"
   ]
  },
  {
   "cell_type": "markdown",
   "metadata": {},
   "source": [
    "For automated machine learning models, you can use the `explain_model` method to examine the features that were most impactful to the model.\n",
    "\n",
    "Run the following cell perform the evaluation."
   ]
  },
  {
   "cell_type": "code",
   "execution_count": null,
   "metadata": {},
   "outputs": [],
   "source": [
    "from azureml.train.automl.automlexplainer import explain_model\n",
    "\n",
    "_, _, sorted_global_importance_values, sorted_global_importance_names, _ , _ = explain_model(\n",
    "    best_model, \n",
    "    X_train, \n",
    "    X_test, \n",
    "    best_run=best_run, \n",
    "    y_train=y_train)\n",
    "\n",
    "#Overall feature importance\n",
    "feature_importance = dict(zip(sorted_global_importance_names, sorted_global_importance_values))"
   ]
  },
  {
   "cell_type": "markdown",
   "metadata": {},
   "source": [
    "Run the following cell to render the feature importance using a Pandas DataFrame. Which feature had the greatest importance globally on the model?"
   ]
  },
  {
   "cell_type": "code",
   "execution_count": null,
   "metadata": {},
   "outputs": [],
   "source": [
    "features_df = pd.DataFrame(list(zip(sorted_global_importance_names, sorted_global_importance_values)), dtype=float)\n",
    "pd.options.display.float_format = '{:.20g}'.format\n",
    "features_df"
   ]
  },
  {
   "cell_type": "markdown",
   "metadata": {},
   "source": [
    "Did the results surprise you? The `Battery_Rated_Cycles_CharGramCountVec_200` feature has the greatest impact on the `Survival_In_Days` prediction. This feature was not one in the original data, but an engineered feature that automated machine learning created that is derived from the `Battery_Rated_Cycles` feature. "
   ]
  }
 ],
 "metadata": {
  "kernelspec": {
   "display_name": "Python [conda env:py35]",
   "language": "python",
   "name": "conda-env-py35-py"
  },
  "language_info": {
   "codemirror_mode": {
    "name": "ipython",
    "version": 3
   },
   "file_extension": ".py",
   "mimetype": "text/x-python",
   "name": "python",
   "nbconvert_exporter": "python",
   "pygments_lexer": "ipython3",
   "version": "3.5.5"
  }
 },
 "nbformat": 4,
 "nbformat_minor": 2
}
